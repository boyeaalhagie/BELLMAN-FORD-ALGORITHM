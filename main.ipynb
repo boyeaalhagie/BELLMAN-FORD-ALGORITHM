{
 "cells": [
  {
   "cell_type": "markdown",
   "metadata": {},
   "source": [
    "### Main class to run the Algorithm"
   ]
  },
  {
   "cell_type": "code",
   "execution_count": 24,
   "metadata": {},
   "outputs": [],
   "source": [
    "from Bellman_Ford import Graph\n",
    "from Bellman_Ford import load_data\n"
   ]
  },
  {
   "cell_type": "code",
   "execution_count": 25,
   "metadata": {},
   "outputs": [
    {
     "ename": "ValueError",
     "evalue": "invalid literal for int() with base 10: 'ORD'",
     "output_type": "error",
     "traceback": [
      "\u001b[1;31m---------------------------------------------------------------------------\u001b[0m",
      "\u001b[1;31mValueError\u001b[0m                                Traceback (most recent call last)",
      "Cell \u001b[1;32mIn[25], line 4\u001b[0m\n\u001b[0;32m      1\u001b[0m \u001b[38;5;28;01mif\u001b[39;00m \u001b[38;5;18m__name__\u001b[39m \u001b[38;5;241m==\u001b[39m \u001b[38;5;124m\"\u001b[39m\u001b[38;5;124m__main__\u001b[39m\u001b[38;5;124m\"\u001b[39m:\n\u001b[0;32m      2\u001b[0m     \u001b[38;5;66;03m# Load the dataset\u001b[39;00m\n\u001b[0;32m      3\u001b[0m     dataset_path \u001b[38;5;241m=\u001b[39m \u001b[38;5;124m\"\u001b[39m\u001b[38;5;124mdata.csv\u001b[39m\u001b[38;5;124m\"\u001b[39m  \u001b[38;5;66;03m# Replace with your dataset path\u001b[39;00m\n\u001b[1;32m----> 4\u001b[0m     num_airports, edges, airport_to_index \u001b[38;5;241m=\u001b[39m \u001b[43mload_data\u001b[49m\u001b[43m(\u001b[49m\u001b[43mdataset_path\u001b[49m\u001b[43m)\u001b[49m\n\u001b[0;32m      6\u001b[0m     \u001b[38;5;66;03m# Initialize the graph with the number of airports\u001b[39;00m\n\u001b[0;32m      7\u001b[0m     graph \u001b[38;5;241m=\u001b[39m Graph(num_airports)\n",
      "File \u001b[1;32mc:\\Users\\boyea\\OneDrive - Milwaukee School of Engineering\\Desktop\\Web App\\Labs\\Bellford\\BELLMAN-FORD-ALGORITHM\\Bellman_Ford.py:58\u001b[0m, in \u001b[0;36mload_data\u001b[1;34m(file_path)\u001b[0m\n\u001b[0;32m     56\u001b[0m \u001b[38;5;28mnext\u001b[39m(reader)  \u001b[38;5;66;03m# Skip the header\u001b[39;00m\n\u001b[0;32m     57\u001b[0m \u001b[38;5;28;01mfor\u001b[39;00m row \u001b[38;5;129;01min\u001b[39;00m reader:\n\u001b[1;32m---> 58\u001b[0m     source \u001b[38;5;241m=\u001b[39m \u001b[38;5;28;43mint\u001b[39;49m\u001b[43m(\u001b[49m\u001b[43mrow\u001b[49m\u001b[43m[\u001b[49m\u001b[38;5;241;43m0\u001b[39;49m\u001b[43m]\u001b[49m\u001b[43m)\u001b[49m\n\u001b[0;32m     59\u001b[0m     destination \u001b[38;5;241m=\u001b[39m \u001b[38;5;28mint\u001b[39m(row[\u001b[38;5;241m1\u001b[39m])\n\u001b[0;32m     60\u001b[0m     weight \u001b[38;5;241m=\u001b[39m \u001b[38;5;28mfloat\u001b[39m(row[\u001b[38;5;241m2\u001b[39m])\n",
      "\u001b[1;31mValueError\u001b[0m: invalid literal for int() with base 10: 'ORD'"
     ]
    }
   ],
   "source": [
    "\n",
    "\n",
    "if __name__ == \"__main__\":\n",
    "    # Load the dataset\n",
    "    dataset_path = \"data.csv\"  # Replace with your dataset path\n",
    "    num_airports, edges, airport_to_index = load_data(dataset_path)\n",
    "\n",
    "    # Initialize the graph with the number of airports\n",
    "    graph = Graph(num_airports)\n",
    "\n",
    "    # Add edges from the dataset\n",
    "    for source, destination, weight in edges:\n",
    "        graph.add_edge(source, destination, weight)\n",
    "\n",
    "    # Display the airport codes mapping\n",
    "    index_to_airport = {idx: airport for airport, idx in airport_to_index.items()}\n",
    "    print(\"\\nAirport Codes Mapping:\")\n",
    "    for idx, airport in index_to_airport.items():\n",
    "        print(f\"{idx}: {airport}\")\n",
    "\n",
    "    # User input for source and destination airports\n",
    "    source_code = input(\"\\nEnter the source airport code (e.g., ORD): \")\n",
    "    destination_code = input(\"Enter the destination airport code (e.g., SEA): \")\n",
    "\n",
    "    if source_code not in airport_to_index or destination_code not in airport_to_index:\n",
    "        print(\"Invalid airport code(s). Please check the mapping.\")\n",
    "    else:\n",
    "        source_index = airport_to_index[source_code]\n",
    "        destination_index = airport_to_index[destination_code]\n",
    "\n",
    "        # Find the shortest paths using Bellman-Ford\n",
    "        try:\n",
    "            distances = graph.bellman_ford(source_index)\n",
    "\n",
    "            # Display the shortest path to the destination\n",
    "            shortest_distance = distances[destination_index]\n",
    "            print(f\"\\nShortest distance from {source_code} to {destination_code}: {shortest_distance} miles\")\n",
    "\n",
    "            # Optional: Display distances to all airports\n",
    "            print(\"\\nDistances from source airport to all other airports:\")\n",
    "            for idx, distance in distances.items():\n",
    "                print(f\"{index_to_airport[idx]}: {distance} miles\")\n",
    "\n",
    "        except ValueError as e:\n",
    "            print(e)\n"
   ]
  },
  {
   "cell_type": "code",
   "execution_count": null,
   "metadata": {},
   "outputs": [],
   "source": []
  }
 ],
 "metadata": {
  "kernelspec": {
   "display_name": "Python 3",
   "language": "python",
   "name": "python3"
  },
  "language_info": {
   "codemirror_mode": {
    "name": "ipython",
    "version": 3
   },
   "file_extension": ".py",
   "mimetype": "text/x-python",
   "name": "python",
   "nbconvert_exporter": "python",
   "pygments_lexer": "ipython3",
   "version": "3.11.4"
  }
 },
 "nbformat": 4,
 "nbformat_minor": 2
}
