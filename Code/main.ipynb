{
 "cells": [
  {
   "cell_type": "markdown",
   "metadata": {},
   "source": [
    "### Main class to run the Algorithm"
   ]
  },
  {
   "cell_type": "code",
   "execution_count": 2,
   "metadata": {},
   "outputs": [],
   "source": [
    "from Bellman_Ford import Graph\n",
    "from Bellman_Ford import load_data\n",
    "import matplotlib.pyplot as plt\n",
    "import math\n",
    "import time\n",
    "import pandas as pd\n",
    "from haversine import haversine, Unit\n",
    "\n",
    "\n"
   ]
  },
  {
   "cell_type": "code",
   "execution_count": 3,
   "metadata": {},
   "outputs": [
    {
     "ename": "ValueError",
     "evalue": "too many values to unpack (expected 3)",
     "output_type": "error",
     "traceback": [
      "\u001b[1;31m---------------------------------------------------------------------------\u001b[0m",
      "\u001b[1;31mValueError\u001b[0m                                Traceback (most recent call last)",
      "Cell \u001b[1;32mIn[3], line 4\u001b[0m\n\u001b[0;32m      1\u001b[0m \u001b[38;5;28;01mif\u001b[39;00m \u001b[38;5;18m__name__\u001b[39m \u001b[38;5;241m==\u001b[39m \u001b[38;5;124m\"\u001b[39m\u001b[38;5;124m__main__\u001b[39m\u001b[38;5;124m\"\u001b[39m:\n\u001b[0;32m      2\u001b[0m     \u001b[38;5;66;03m# Load the dataset\u001b[39;00m\n\u001b[0;32m      3\u001b[0m     dataset_path \u001b[38;5;241m=\u001b[39m \u001b[38;5;124mr\u001b[39m\u001b[38;5;124m\"\u001b[39m\u001b[38;5;124mC:\u001b[39m\u001b[38;5;124m\\\u001b[39m\u001b[38;5;124mUsers\u001b[39m\u001b[38;5;124m\\\u001b[39m\u001b[38;5;124msudersanamv\u001b[39m\u001b[38;5;124m\\\u001b[39m\u001b[38;5;124mvs code\u001b[39m\u001b[38;5;124m\\\u001b[39m\u001b[38;5;124mBELLMAN-FORD-ALGORITHM\u001b[39m\u001b[38;5;124m\\\u001b[39m\u001b[38;5;124mData\u001b[39m\u001b[38;5;124m\\\u001b[39m\u001b[38;5;124mdata.csv\u001b[39m\u001b[38;5;124m\"\u001b[39m  \u001b[38;5;66;03m# Replace with your dataset path\u001b[39;00m\n\u001b[1;32m----> 4\u001b[0m     num_airports, edges, airport_to_index \u001b[38;5;241m=\u001b[39m pd\u001b[38;5;241m.\u001b[39mread_csv(dataset_path)\u001b[38;5;241m.\u001b[39mvalues\u001b[38;5;241m.\u001b[39mtolist()\n\u001b[0;32m      6\u001b[0m     \u001b[38;5;66;03m# Initialize the graph with the number of airports\u001b[39;00m\n\u001b[0;32m      7\u001b[0m     graph \u001b[38;5;241m=\u001b[39m Graph(num_airports)\n",
      "\u001b[1;31mValueError\u001b[0m: too many values to unpack (expected 3)"
     ]
    }
   ],
   "source": [
    "\n",
    "\n",
    "if __name__ == \"__main__\":\n",
    "    # Load the dataset\n",
    "    dataset_path = r\"C:\\Users\\sudersanamv\\vs code\\BELLMAN-FORD-ALGORITHM\\Data\\data.csv\"  # Replace with your dataset path\n",
    "    num_airports, edges, airport_to_index = pd.read_csv(dataset_path).values.tolist()\n",
    "\n",
    "    # Initialize the graph with the number of airports\n",
    "    graph = Graph(num_airports)\n",
    "\n",
    "    # Add edges from the dataset\n",
    "    for source, destination, weight in edges:\n",
    "        graph.add_edge(source, destination, weight)\n",
    "\n",
    "    # Display the airport codes mapping\n",
    "    index_to_airport = {idx: airport for airport, idx in airport_to_index.items()}\n",
    "    print(\"\\nAirport Codes Mapping:\")\n",
    "    for idx, airport in index_to_airport.items():\n",
    "        print(f\"{idx}: {airport}\")\n",
    "\n",
    "    # User input for source and destination airports\n",
    "    source_code = input(\"\\nEnter the source airport code (e.g., ORD): \")\n",
    "    destination_code = input(\"Enter the destination airport code (e.g., SEA): \")\n",
    "\n",
    "    if source_code not in airport_to_index or destination_code not in airport_to_index:\n",
    "        print(\"Invalid airport code(s). Please check the mapping.\")\n",
    "    else:\n",
    "        source_index = airport_to_index[source_code]\n",
    "        destination_index = airport_to_index[destination_code]\n",
    "\n",
    "        # Find the shortest paths using Bellman-Ford\n",
    "        try:\n",
    "            distances = graph.bellman_ford(source_index)\n",
    "\n",
    "            # Display the shortest path to the destination\n",
    "            shortest_distance = distances[destination_index]\n",
    "            print(f\"\\nShortest distance from {source_code} to {destination_code}: {shortest_distance} miles\")\n",
    "\n",
    "            # Optional: Display distances to all airports\n",
    "            print(\"\\nDistances from source airport to all other airports:\")\n",
    "            for idx, distance in distances.items():\n",
    "                print(f\"{index_to_airport[idx]}: {distance} miles\")\n",
    "\n",
    "        except ValueError as e:\n",
    "            print(e)\n"
   ]
  },
  {
   "cell_type": "code",
   "execution_count": null,
   "metadata": {},
   "outputs": [],
   "source": []
  }
 ],
 "metadata": {
  "kernelspec": {
   "display_name": "Python 3",
   "language": "python",
   "name": "python3"
  },
  "language_info": {
   "codemirror_mode": {
    "name": "ipython",
    "version": 3
   },
   "file_extension": ".py",
   "mimetype": "text/x-python",
   "name": "python",
   "nbconvert_exporter": "python",
   "pygments_lexer": "ipython3",
   "version": "3.12.7"
  }
 },
 "nbformat": 4,
 "nbformat_minor": 2
}
